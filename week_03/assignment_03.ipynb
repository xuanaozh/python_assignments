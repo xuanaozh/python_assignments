{
 "cells": [
  {
   "cell_type": "markdown",
   "metadata": {},
   "source": [
    "### Exercise 1: \n",
    "Study the following code and create your own mad-libs generator (please don't copy the example)"
   ]
  },
  {
   "cell_type": "markdown",
   "metadata": {},
   "source": [
    "### A Mad-Libs invitation generator\n",
    "\n",
    "Mad-Libs is a phrasal template word game where one player prompts others for a list of words to <b>substitute</b> for blanks in a story.\n",
    "\n",
    "We are going to create an event `invitation function` that would allow us to automate creating copies of event invitations.\n",
    "\n",
    "<span style=\"color:tomato\">The invitation template</span>:\n",
    "```\n",
    "    Hey, _guestname_!\n",
    "    You are invited to a _type_of_event_! Join us on _date_ at _location_!\n",
    "    Bring _items_.\n",
    "    \n",
    "    Best,\n",
    "    Party bear\n",
    "    \n",
    "```\n",
    "\n",
    "<span style=\"color:tomato\">An example output</span>:\n",
    "```\n",
    "    Hey, Sven!\n",
    "    You are invited to a gathering! Join us on dn2 yluJ at erauqS noinU!\n",
    "    Bring beverages, games, signs, masks, and facecovers.\n",
    "\n",
    "    Best,\n",
    "    Party bear\n",
    "```"
   ]
  },
  {
   "cell_type": "code",
   "execution_count": null,
   "metadata": {},
   "outputs": [],
   "source": [
    "# EXAMPLE GENERATOR\n",
    "\n",
    "import random\n",
    "def event(namelist, event_type, date, loc, items):\n",
    "    \"\"\"\n",
    "        This function takes event information input, parse them and turn them into\n",
    "        a formatted invitation that's ready to be duplicate and populate.\n",
    "    \"\"\"\n",
    "    # outputs a random item from the list\n",
    "    def getRand(list):\n",
    "        return random.choice(list)\n",
    "    \n",
    "    # formats all outputs form a list as 'a, b, and c'\n",
    "    def getAll(li):\n",
    "        return ', '.join(li[:-1]) + \", and %s\" %(li[-1])\n",
    "    \n",
    "  \n",
    "    # variables needed:\n",
    "    guestlist = namelist\n",
    "    type_of_event = event_type\n",
    "    date = date[::-1]\n",
    "    location = loc[::-1] # a simple reversed encrption\n",
    "    items = items\n",
    "    invite_template = '''\n",
    "            Hey %s:\n",
    "            You are invited to a %s! Join us on %s at %s!\n",
    "            Bring %s.\n",
    "\n",
    "            Best,\n",
    "            Party bear\n",
    "\n",
    "            ---\n",
    "        ''' \n",
    "    \n",
    "    # loop through all guest tuples in the guestlist\n",
    "    # populate our invitations\n",
    "    for guests in guestlist:\n",
    "        print(invite_template % (guests,\n",
    "                                 type_of_event,\n",
    "                                 date,\n",
    "                                 location,\n",
    "                                 getAll(items)# try getRand()\n",
    "                                ))"
   ]
  },
  {
   "cell_type": "code",
   "execution_count": null,
   "metadata": {},
   "outputs": [],
   "source": [
    "guests = (\"Bob\",\"Mary & Friends\",\"Lan\",\"Anna\",\"Sven and friends\",\"Jason\")\n",
    "items = ['beverages','games','signs',\"masks\",\"facecovers\"]\n",
    "\n",
    "# call the generator function to populate invitations:\n",
    "event(guests, \"gathering\", \"July 2nd\", \"Union Square\", items)"
   ]
  },
  {
   "cell_type": "code",
   "execution_count": null,
   "metadata": {},
   "outputs": [],
   "source": [
    "# Exercise 1 Code Here:\n",
    "import random\n",
    "\n",
    "def send(name,event,date,loc):\n",
    "    \n",
    "    def getRandom(list):\n",
    "        return random.chioce(list)\n",
    "    \n",
    "    \n",
    "    guestlist = name\n",
    "    event_type = event\n",
    "    time = date[-1:]\n",
    "    location = loc[1:5] \n",
    "    invite_template = '''\n",
    "            Hey %s:\n",
    "            You are invited to a %s! Join us on %s at %s!\n",
    "\n",
    "            Best,\n",
    "            Nobody\n",
    "\n",
    "            ---\n",
    "        ''' \n",
    "    for guests in guestlist:\n",
    "        print(invite_template % (guests,\n",
    "                                 event_type,\n",
    "                                 time,\n",
    "                                 location,\n",
    "                                ))\n",
    "\n",
    "        \n",
    "guests = (\"Khloe Harding\",\"Wendy Melendez\",\"Aubree O'Brien\",\"Helen Mosley\")\n",
    "\n",
    "send(guests, \"gathering\", \"July 2nd\", \"Union Square\")"
   ]
  },
  {
   "cell_type": "markdown",
   "metadata": {},
   "source": [
    "### Exercise 2: \n",
    "\n",
    "### What is a palindrome?\n",
    "A palindrome is a word or phrase that is spelled the same forwards as backwards, like:\n",
    "\n",
    "```\n",
    "wow\n",
    "Anna\n",
    "race car\n",
    "Was it a cat I saw?\n",
    "```\n",
    "\n",
    "Create a function that checks whether or not a given phrase is a palindrome. Here's the plan:\n",
    "* Our function will be called `isPalindrome()`.\n",
    "* It will accept one **argument** called `txt`, which is a string.\n",
    "* It will print True if `txt` is a palindrome or `False` if `txt`\n",
    "  is not a palindrome.\n",
    "\n",
    "### Test your function along the way\n",
    "We will use the following test cases to guide us:\n",
    "\n",
    "The following should all return `True`:\n",
    "```\n",
    "isPalindrome('wow')\n",
    "isPalindrome('12a3a21')\n",
    "isPalindrome('Anna')\n",
    "isPalindrome('race car')\n",
    "isPalindrome('Was it a cat I saw?')\n",
    "```\n",
    "\n",
    "The following should all return `False`:\n",
    "```\n",
    "isPalindrome('wowza')\n",
    "isPalindrome('123a21')\n",
    "isPalindrome('<3 mom <3')\n",
    "```\n",
    "\n",
    "### Things to Consider:\n",
    " - Make everything lowercase.\n",
    " - Replace all spaces with an empty string\n",
    " - Replace all spaces with an empty string\n",
    " - How would we spell a word backwards or forwards?"
   ]
  },
  {
   "cell_type": "code",
   "execution_count": null,
   "metadata": {},
   "outputs": [],
   "source": [
    "# Exercise 2 Code Here:\n",
    "\n",
    "def isPalindrome(s):\n",
    "    \n",
    "    rev = ''.join(reversed(s))\n",
    " \n",
    "\n",
    "    if (s == rev):\n",
    "        return True\n",
    "    else:\n",
    "        return False\n",
    "    \n",
    "    ans = isPalindrome(s)\n",
    "        \n",
    "    if (ans):\n",
    "        print(True)\n",
    "    else:\n",
    "        print(False)"
   ]
  },
  {
   "cell_type": "code",
   "execution_count": null,
   "metadata": {},
   "outputs": [],
   "source": [
    "isPalindrome(\"Huh?\")"
   ]
  },
  {
   "cell_type": "markdown",
   "metadata": {},
   "source": [
    "### Exercise 3: \n",
    "Create a dataset of your own using using a dictionary and make a simple visualization with it. Branch out and see what types of graphs you could use here: https://matplotlib.org/ . Don't be shy to Google things you don't know!!!"
   ]
  },
  {
   "cell_type": "code",
   "execution_count": 20,
   "metadata": {},
   "outputs": [
    {
     "data": {
      "image/png": "[encoded data removed]",
      "text/plain": [
       "<Figure size 640x480 with 1 Axes>"
      ]
     },
     "metadata": {},
     "output_type": "display_data"
    }
   ],
   "source": [
    "#example from their website\n",
    "#https://matplotlib.org/gallery/lines_bars_and_markers/barh.html\n",
    "    \n",
    "import matplotlib\n",
    "import matplotlib.pyplot as plt\n",
    "import numpy as np\n",
    "\n",
    "# Fixing random state for reproducibility\n",
    "np.random.seed(49389831)\n",
    "\n",
    "\n",
    "plt.rcdefaults()\n",
    "fig, ax = plt.subplots()\n",
    "\n",
    "# Example data\n",
    "people = (\"Khloe Harding\",\"Wendy Melendez\",\"Aubree O'Brien\",\"Helen Mosley\")\n",
    "y_pos = np.arange(len(people))\n",
    "performance = 2+2* np.random.rand(len(people))\n",
    "\n",
    "ax.barh(y_pos, performance, align='edge')\n",
    "ax.set_yticks(y_pos)\n",
    "ax.set_yticklabels(people)\n",
    "ax.set_xlabel('KiloCalories')\n",
    "ax.set_title('Average Daily Calories')\n",
    "\n",
    "plt.show()"
   ]
  },
  {
   "cell_type": "code",
   "execution_count": null,
   "metadata": {},
   "outputs": [],
   "source": [
    "\n"
   ]
  },
  {
   "cell_type": "code",
   "execution_count": null,
   "metadata": {},
   "outputs": [],
   "source": []
  },
  {
   "cell_type": "code",
   "execution_count": null,
   "metadata": {},
   "outputs": [],
   "source": []
  }
 ],
 "metadata": {
  "kernelspec": {
   "display_name": "Python 3",
   "language": "python",
   "name": "python3"
  },
  "language_info": {
   "codemirror_mode": {
    "name": "ipython",
    "version": 3
   },
   "file_extension": ".py",
   "mimetype": "text/x-python",
   "name": "python",
   "nbconvert_exporter": "python",
   "pygments_lexer": "ipython3",
   "version": "3.8.3"
  }
 },
 "nbformat": 4,
 "nbformat_minor": 4
}
