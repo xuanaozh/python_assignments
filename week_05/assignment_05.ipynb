{
 "cells": [
  {
   "cell_type": "markdown",
   "metadata": {},
   "source": [
    "### Getting into Class\n",
    "This exercise is to get you familiar with the idea of creating your own class object.\n",
    "\n",
    "This will create a generic Student class that we will be able to extend with other class objects.\n",
    "\n",
    "Your Class should be able to create an Student object instance with the following properties\n",
    "\n",
    "- Construct with default attributes for School Name, Student First Name, and Last Name\n",
    "- Methods to update any of these above attributes\n",
    "- An overloaded method for the str() function to return the Student attributes in a string formatted sentence \"{FirstName} {LastName} is a student of {SchoolName}\"\n",
    "\n",
    "You are free to implement this class however you like. The testing code is included below. Don't be afraid to check the [documentation]('https://docs.python.org/3/tutorial/classes.html') or any other resources you would like! Internet searching is a big part of promgramming"
   ]
  },
  {
   "cell_type": "code",
   "execution_count": 8,
   "metadata": {},
   "outputs": [
    {
     "name": "stdout",
     "output_type": "stream",
     "text": [
      "Default School Name\n",
      "Default First Name\n",
      "Default Last Name\n"
     ]
    }
   ],
   "source": [
    "# code here\n",
    "import itertools\n",
    "\n",
    "\n",
    "class Student():\n",
    "    \n",
    "    defaultSchool = 'Default School Name'\n",
    "    defaultFirstName = 'Default First Name'\n",
    "    defaultLastName = 'Default Last Name'\n",
    "    counter = itertools.count()\n",
    "    totalStudent=[]\n",
    "    idList = []\n",
    "    \n",
    "    def __init__(self, sname,fname,lname,major,undergrad,*totalNumber):\n",
    "        self.sname = sname\n",
    "        self.fname = fname\n",
    "        self.lname = lname\n",
    "        self.major = major\n",
    "        self.undergrad = undergrad\n",
    "        #self.totalStudent = []\n",
    "        if (not totalNumber):\n",
    "            return\n",
    "        \n",
    "        for individual in totalNumber:\n",
    "            self.addIndividual(individual)\n",
    "    \n",
    "       #Create a method that we can use anywhere to add numbers to the list.\n",
    "    def addIndividual(self, *arguments):\n",
    "        #Fall out if no arguments given\n",
    "        if (not arguments):\n",
    "            return\n",
    "        #Append numbers to our list if we have numbers to add\n",
    "        for number in arguments:\n",
    "            self.totalStudent.append(number)\n",
    "            return self\n",
    "    \n",
    "    def assignId(self,*otherNumbers):        \n",
    "        for i in range(len(self.totalStudent)):\n",
    "            self.idList.append(id(self.totalStudent[i]))\n",
    "            print(self.idList[i])\n",
    "            \n",
    "                  \n",
    "    def empty(self):\n",
    "        self.totalStudent = []\n",
    "        return self.totalStudent\n",
    "        self.idList = []\n",
    "        return self.idList\n",
    "        \n",
    "      \n",
    "    \n",
    "    def update_data(self):\n",
    "        self.sname = input(\"What's your school name? :\\n\")\n",
    "        self.fname = input(\"What's your first name? :\\n\")\n",
    "        self.lname = input(\"What's your last name? :\\n\")\n",
    "        info_template = '''\n",
    "        -----------\n",
    "        %s %s is a studenf of %s.\n",
    "        '''\n",
    "        print(info_template % (schoolName.fname,schoolName.lname,schoolName.sname))\n",
    "\n",
    "    \n",
    "    def update_major(self):\n",
    "         self.major = input(\"What's your major? :\\n\")\n",
    "    \n",
    "    def completedInfo(self,*argument):         \n",
    "        for i in range(len(self.totalStudent)):\n",
    "            info_template = '''%s %s is a studenf of %s. Student ID number is %s. The major is %s.'''\n",
    "            print(info_template % (schoolName.fname,schoolName.lname,schoolName.sname,schoolName.idList[i],schoolName.major))\n",
    "        \n",
    "    \n",
    "\n",
    "schoolName = Student('Whatever','Whatever','Whatever','Whatever','Whatever')\n",
    "print(schoolName.defaultSchool)\n",
    "print(schoolName.defaultFirstName)\n",
    "print(schoolName.defaultLastName)"
   ]
  },
  {
   "cell_type": "code",
   "execution_count": 9,
   "metadata": {},
   "outputs": [
    {
     "name": "stdout",
     "output_type": "stream",
     "text": [
      "What's your school name? :\n",
      "123\n",
      "What's your first name? :\n",
      "123\n",
      "What's your last name? :\n",
      "123\n",
      "\n",
      "        -----------\n",
      "        123 123 is a studenf of 123.\n",
      "        \n"
     ]
    }
   ],
   "source": [
    "schoolName.update_data()\n"
   ]
  },
  {
   "cell_type": "markdown",
   "metadata": {},
   "source": [
    "### Challenges\n",
    "Before looking at any of these specific challenges, look back at the class you've created. Are there features of Students that you think are missing? Go ahead and just try and add them yourself! These can be things like registered classes, graduation year, enrollment status, etc. Anything you can think of! Class flexibility is designed so that your approach reflects your own personal understanding of the problem. But for a more structured challenge read on...\n",
    "\n",
    "The challenges here extend the functionality of the base class. These are in topics of class attributes, magic methods, inheritance, and iteration. Don't be afraid to check python documentation on these problems to look for implementation help! No one codes alone!\n",
    "\n",
    "Class is where your own ideas get to come through as a programmer and designer. So there is no one right way to any of these. Give it your best shot and also be creative!\n",
    "\n",
    "__Challenge #1__ add an class wide attribute student count and give every student an ID\n",
    "Create a Class wide count of students that tracks how many students have been created. Then, usi that attriute to give every student a unique ID.\n",
    "\n",
    "__Challenge #2__ add a behavioral method to the students\n",
    "What kind of behavior should a student have? What do they do? Do they study? Research? Maybe a student can declare a major or focus of study?\n",
    "\n",
    "Implement the method and the appropriate attributes that allows a student to print a statement about themselves. These can be as simple as \"say my own name\" or something like printing the student's favorite faculty member\n",
    "\n",
    "__Challenge #3__ create a subclass called Graduate Student\n",
    "The Graduate student should inherit from the base Student class. How do you think Graduate Students should be differentiated from the base Student? Add your own attribute or methods that you think they should have.\n",
    "\n",
    "__Challenge #4__ Create a School Class that has Students as attributes\n",
    "This is a separate class that is called School that can enroll Students, and graduate students. Maybe it can track its own endowment. This would be a large class that is meant to process these students in some way."
   ]
  },
  {
   "cell_type": "code",
   "execution_count": 10,
   "metadata": {},
   "outputs": [
    {
     "name": "stdout",
     "output_type": "stream",
     "text": [
      "['123 123']\n",
      "2139070723504\n"
     ]
    }
   ],
   "source": [
    "# challenge 1\n",
    "schoolName.empty()\n",
    "schoolName.addIndividual(schoolName.fname+\" \"+schoolName.lname)\n",
    "print(schoolName.totalStudent)\n",
    "schoolName.assignId()\n"
   ]
  },
  {
   "cell_type": "code",
   "execution_count": 11,
   "metadata": {},
   "outputs": [
    {
     "name": "stdout",
     "output_type": "stream",
     "text": [
      "What's your major? :\n",
      "123\n",
      "123 123 is a studenf of 123. Student ID number is 2139070723504. The major is 123.\n"
     ]
    }
   ],
   "source": [
    "# challenge 2\n",
    "schoolName.update_major()\n",
    "schoolName.completedInfo()"
   ]
  },
  {
   "cell_type": "code",
   "execution_count": 12,
   "metadata": {},
   "outputs": [
    {
     "name": "stdout",
     "output_type": "stream",
     "text": [
      "What's your undergraduate school? :\n",
      "123\n",
      "\n",
      "        -----------\n",
      "        This student is graduated from 123.\n",
      "        \n"
     ]
    }
   ],
   "source": [
    "# challenge 3\n",
    "class GraduateStudent(Student):\n",
    "    \n",
    "    \n",
    "    def __init__(self, sname,fname,lname,major,undergrad,*totalNumber):\n",
    "        super().__init__(sname,fname,lname,major,undergrad,*totalNumber)\n",
    "        \n",
    "        \n",
    "    def undergrad_school(self):\n",
    "        self.undergrad = input(\"What's your undergraduate school? :\\n\")\n",
    "        info_template = '''\n",
    "        -----------\n",
    "        This student is graduated from %s.\n",
    "        '''\n",
    "        print(info_template % (self.undergrad))\n",
    "\n",
    "graduateStudent = GraduateStudent(1,2,3,4,5)\n",
    "graduateStudent.undergrad_school()"
   ]
  },
  {
   "cell_type": "code",
   "execution_count": 6,
   "metadata": {},
   "outputs": [],
   "source": [
    "# challenge 4"
   ]
  },
  {
   "cell_type": "code",
   "execution_count": null,
   "metadata": {},
   "outputs": [],
   "source": [
    "\n",
    "    "
   ]
  },
  {
   "cell_type": "code",
   "execution_count": null,
   "metadata": {},
   "outputs": [],
   "source": []
  }
 ],
 "metadata": {
  "kernelspec": {
   "display_name": "Python 3",
   "language": "python",
   "name": "python3"
  },
  "language_info": {
   "codemirror_mode": {
    "name": "ipython",
    "version": 3
   },
   "file_extension": ".py",
   "mimetype": "text/x-python",
   "name": "python",
   "nbconvert_exporter": "python",
   "pygments_lexer": "ipython3",
   "version": "3.8.3"
  }
 },
 "nbformat": 4,
 "nbformat_minor": 4
}
