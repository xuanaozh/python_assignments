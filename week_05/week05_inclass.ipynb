{
 "cells": [
  {
   "cell_type": "markdown",
   "metadata": {},
   "source": [
    "### Intro to Object Oriented Programming (OOP) - Class"
   ]
  },
  {
   "cell_type": "markdown",
   "metadata": {},
   "source": [
    "### What is a Class?\n",
    "\n",
    "Where objects are direct collections of data and methods that are performed on that data, <b> a Class is a blueprint for a collection of data.</b> When we write a Class, we are writing code that creates spaces and expectations for certain types of data as well as methods that can run on that data. It is essentially a pattern that allows us to write more performant code and lets us scale the complexity of our projects if we use them right. And thanks to Python, object and class creation are built in features of the language. This means that we can create several objects of that blueprint. Objects of classes are called <i>instances.</i>\n",
    "\n",
    "An instance of a class has access to all of the things that the declaration, the blueprint, defines for the class. With this we can actually separate the behavior of our code from the actual execution of it.\n",
    "\n",
    "This separation means that Classes have two parts to them, declaration and instantiation. Declaration is where we will make the blueprints and the details of the class. Instantiation will be creating objects of the Class. "
   ]
  },
  {
   "cell_type": "code",
   "execution_count": 1,
   "metadata": {},
   "outputs": [
    {
     "name": "stdout",
     "output_type": "stream",
     "text": [
      "<__main__.ClassName object at 0x7f80b8ea40d0>\n",
      "<__main__.ClassName object at 0x7f80b8ea4110>\n",
      "The two class objects have a different reference and are not the same\n"
     ]
    }
   ],
   "source": [
    "#Declaration\n",
    "class ClassName:\n",
    "    #Don't worry about the inside of the function yet\n",
    "    def __init__(self):\n",
    "        return\n",
    "\n",
    "#Instantiation\n",
    "classObject = ClassName()\n",
    "anotherClassObject = ClassName()\n",
    "\n",
    "print(classObject)\n",
    "print(anotherClassObject)\n",
    "print('The two class objects have a different reference and are not the same')"
   ]
  },
  {
   "cell_type": "markdown",
   "metadata": {},
   "source": [
    "### What are objects?\n",
    "\n",
    "An Object is <b>any named element</b> in Python. From the integers to floats, to Dictionary or tuple, these are all Objects when they become named. Keep this in mind because we will be creating Objects with the class blueprints."
   ]
  },
  {
   "cell_type": "markdown",
   "metadata": {},
   "source": [
    "### Creating a Class\n",
    "\n",
    "Classes contain four principle pieces: <b>name, constructor, attributes, and methods.</b>\n",
    "\n",
    "Remember, they're a pattern that we implement to control our code. So these pieces have to be followed for the Class to be valid. \n",
    "\n",
    "For this section, keep this block of example code in mind. This is an abstract example of a class declaration that can be filled with any specific version of a class. We will break down each section afterwards."
   ]
  },
  {
   "cell_type": "code",
   "execution_count": 2,
   "metadata": {},
   "outputs": [],
   "source": [
    "#An Example Class Declaration\n",
    "\n",
    "#Class Name is declared first\n",
    "class ClassName:\n",
    "    #Declare any class-wide attributes here\n",
    "    sharedObject = 1\n",
    "    \n",
    "    #Initializing function, or Constructor function\n",
    "    def __init__(self):\n",
    "        return\n",
    "    \n",
    "    #Class specific method declaration\n",
    "    def method(self):\n",
    "        #Method body goes here\n",
    "        return"
   ]
  },
  {
   "cell_type": "markdown",
   "metadata": {},
   "source": [
    "### Name\n",
    "\n",
    "A Class has to have a name. This is how we are going to reference it when we create it.\n",
    "Class Names should be descriptive! We are not allowed to declare two versions of the same exact class. After declaring it, we cannot redefine it later on, so the name is vital to the identity of the Class.\n",
    "\n",
    "<pre>class ClassName:</pre>\n",
    "\n",
    "Class declarations use the keyword 'class' to declare that we are creating a class.\n",
    "Note that classes can only be declared at 0 indents. It cannot be repeatedly declared in a loop."
   ]
  },
  {
   "cell_type": "markdown",
   "metadata": {},
   "source": [
    "### Constructor\n",
    "\n",
    "<p>Creating a class always involves something called construction. In python, you will see this as the def __init__(): method declaration. Ignoring the double underscores for now (we will come back to those), the init method (initialize method) is used to create a instance of the Class objects. This is called a constructor method.\n",
    "    \n",
    "In these methods, the class will always have a 'self' reference to know that it is creating an instance of an object, and then it will have any other attributes that we would like to assign for the class. This method can take as many attributes as we need.\n",
    "\n",
    "Once in the init() method, we declare the attributes that we will send to the constructor just like we would for any function\n",
    "</p>\n"
   ]
  },
  {
   "cell_type": "code",
   "execution_count": 3,
   "metadata": {},
   "outputs": [
    {
     "name": "stdout",
     "output_type": "stream",
     "text": [
      "1 2 3\n"
     ]
    }
   ],
   "source": [
    "class ClassName:\n",
    "    \n",
    "    #In this constructor, we take three additional attributes\n",
    "    def __init__(self, firstAttribute, secondAttribute, thirdAttribute):\n",
    "        self.firstAttribute = firstAttribute\n",
    "        self.secondAttribute = secondAttribute\n",
    "        self.thirdAttribute = thirdAttribute\n",
    "\n",
    "#ClassName() is a reference to the __init__ method, it takes self by default, and the 1,2,3\n",
    "#all refer instead to the firstAttribute, secondAttribute, and thirdAttribute\n",
    "classInstance1 = ClassName(1,2,3)\n",
    "\n",
    "#Here we print the values of the class's attributes\n",
    "print('%s %s %s' % \n",
    "      (classInstance1.firstAttribute,\n",
    "       classInstance1.secondAttribute,\n",
    "       classInstance1.thirdAttribute))\n",
    "\n",
    "#  Neither version of the code below will not work because they do not reference the class instance\n",
    "#  Copy and paste them to see the errors for yourself.\n",
    "\n",
    "# #Produces a NameError, attributes don't exist\n",
    "# print('%s %s %s' % \n",
    "#                     (firstAttribute,\n",
    "#                     secondAttribute, \n",
    "#                     thirdAttribute))\n",
    "                    \n",
    "# #Produces an AttributeError, attributes don't exist in the class\n",
    "# print('%s %s %s' % \n",
    "#                     (ClassName.firstAttribute,\n",
    "#                     ClassName.secondAttribute, \n",
    "#                     ClassName.thirdAttribute))\n"
   ]
  },
  {
   "cell_type": "markdown",
   "metadata": {},
   "source": [
    "### Attributes\n",
    "\n",
    "There are two types of attributes to classes, instance and shared These are similar to how we use scope outside of classes, but these are applied within classes as well. \n",
    "\n",
    "Class attributes are objects that are shared between all members of a class. So any member of these classes can reference or modify these attributes.\n",
    "\n",
    "Instance attributes are attributes that exist only to a specific instance of a class. These are kept internal and are references as [InstanceName.Attribute Name]. They are usually declared at construction, but can also be added in arbitrarily.\n"
   ]
  },
  {
   "cell_type": "code",
   "execution_count": 4,
   "metadata": {},
   "outputs": [
    {
     "name": "stdout",
     "output_type": "stream",
     "text": [
      "Classwide Attribute\n",
      "Attribute Here\n",
      "Another Attribute\n"
     ]
    },
    {
     "ename": "NameError",
     "evalue": "name 'AttributeName1' is not defined",
     "output_type": "error",
     "traceback": [
      "\u001b[0;31m---------------------------------------------------------------------------\u001b[0m",
      "\u001b[0;31mNameError\u001b[0m                                 Traceback (most recent call last)",
      "\u001b[0;32m<ipython-input-4-532af9edffc7>\u001b[0m in \u001b[0;36m<module>\u001b[0;34m\u001b[0m\n\u001b[1;32m     20\u001b[0m \u001b[0;34m\u001b[0m\u001b[0m\n\u001b[1;32m     21\u001b[0m \u001b[0;31m#This produces an NameError\u001b[0m\u001b[0;34m\u001b[0m\u001b[0;34m\u001b[0m\u001b[0;34m\u001b[0m\u001b[0m\n\u001b[0;32m---> 22\u001b[0;31m \u001b[0mprint\u001b[0m\u001b[0;34m(\u001b[0m\u001b[0mAttributeName1\u001b[0m\u001b[0;34m)\u001b[0m\u001b[0;34m\u001b[0m\u001b[0;34m\u001b[0m\u001b[0m\n\u001b[0m",
      "\u001b[0;31mNameError\u001b[0m: name 'AttributeName1' is not defined"
     ]
    }
   ],
   "source": [
    "class ClassName:\n",
    "    \n",
    "    #This is an attribute shared among all classes\n",
    "    ClassAttribute = 'Classwide Attribute'\n",
    "    \n",
    "    #this initialization takes an attribute name\n",
    "    def __init__(self, AttributeName1):\n",
    "        self.AttributeName1 = AttributeName1\n",
    "        \n",
    "#Set an attribute that is part of the Class declaration\n",
    "instance1 = ClassName('Attribute Here')\n",
    "\n",
    "#Setting an instance attribute that is not defined in the Class \n",
    "instance1.AttributeName2 = 'Another Attribute'\n",
    "\n",
    "#Print the attribute values. Here they are arbitrary names\n",
    "print(instance1.ClassAttribute)\n",
    "print(instance1.AttributeName1)\n",
    "print(instance1.AttributeName2)\n",
    "\n",
    "#This produces an NameError\n",
    "print(AttributeName1)"
   ]
  },
  {
   "cell_type": "markdown",
   "metadata": {},
   "source": [
    "### Methods\n",
    "\n",
    "Methods are the functionality of a Class. Here you define functions that a Class can perform on its own attributes. This pattern of creating class methods creates a space that allows us to define a series of functions that several different instances can utilize to different effects.\n",
    "\n",
    "Methods reference the self, or will throw an error. This can be shown as\n",
    "<pre> def methodName(self):</pre>\n",
    "\n",
    "Writing methods this way guarantees that the method is written for a specific context. If we generically define a function without a class, we cannot guarantee its usage context. However, in a class, we have some control. For, example could have a series of numbers within an instance's attributes and any function to reference that instance's attributes and perform some actions. This is like telling a group of numbers to calculate the sum, but without having to keep track of the numbers individually.\n"
   ]
  },
  {
   "cell_type": "code",
   "execution_count": 3,
   "metadata": {},
   "outputs": [
    {
     "name": "stdout",
     "output_type": "stream",
     "text": [
      "red blue\n"
     ]
    }
   ],
   "source": [
    "class ClassName:\n",
    "    def __init__(self,number1,number2):\n",
    "        self.number1 = number1\n",
    "        self.number2 = number2\n",
    "    \n",
    "    #here we define a new function, the Sum()\n",
    "    def sum(self):\n",
    "        return self.number1 +\" \"+ self.number2\n",
    "\n",
    "#This is the declaration of an instance with two attribute values\n",
    "instance1 = ClassName(\"red\",\"blue\")\n",
    "\n",
    "#Print the sum with the Instance's function\n",
    "print(instance1.sum())"
   ]
  },
  {
   "cell_type": "markdown",
   "metadata": {},
   "source": [
    "### Magic Methods\n",
    "\n",
    "The <b>D</b>ouble <b>under</b>score, or dunder, method is a way of creating more built-in object functionality into our classes. When we construct an instance of a class, we only call the class name, we do not call any other methods afterwards. This is because we are using the built-int functionality of the init() method. We adapt the init method to the Class by surrounding it with underscores.\n",
    "\n",
    "This technique of extending existing method behavior is known as overloading. There are several other functions that can be overloaded. And they can be overloaded to do anything. Once dunder method is defined in a class, that definition replaces the existing functionality for the object's use case."
   ]
  },
  {
   "cell_type": "code",
   "execution_count": 6,
   "metadata": {},
   "outputs": [
    {
     "name": "stdout",
     "output_type": "stream",
     "text": [
      "0\n"
     ]
    }
   ],
   "source": [
    "class ClassName:\n",
    "    def __init__(self):\n",
    "        #Pass is a Python way was declaring \"Block intentionally left blank\"\n",
    "        pass\n",
    "    \n",
    "    #Overload the len() functionality for compatibliity with this Class of object\n",
    "    def __len__(self):\n",
    "        return 0\n",
    "    \n",
    "classInstance = ClassName()\n",
    "#The use of the extended function\n",
    "print(len(classInstance))"
   ]
  },
  {
   "cell_type": "markdown",
   "metadata": {},
   "source": [
    "### Method Objects\n",
    "Just as a named object can reference any other object or function, so too can objects reference any type of method within a class.\n",
    "\n",
    "This is declared as any other named object would be. \n",
    "<pre>\n",
    "#Assuming you have a class declaration and an instance of a class...\n",
    "methodObject = classInstance.MethodCall()\n",
    "</pre>"
   ]
  },
  {
   "cell_type": "markdown",
   "metadata": {},
   "source": [
    "### Using Class\n",
    "\n",
    "With Classes, it's more important to recognize that they are a strategy for approaching programming problems rather than looking at them as a necessary part of code. You will not always need a Class, and sometimes they are more trouble than they are worth. If you find yourself reusing a lot of code, it's probably time to start considering a strategy like Classes to organize and modulate your programming.\n",
    "\n",
    "Classes open up the opportunity for inheritance. This lets us create subclasses that take attributes and methods from parent classes. We'll go over these in the next lesson.\n",
    "\n",
    "Essentially,the Class construct is a way for us to create custom types with their own functionality. This helps programmers map information in code that isn't strictly related to numerical operations. Used properly, it can really help with the long term functionality of your code.\n",
    "\n",
    "Outside of the examples of this lesson, it's common to see classes (and more) implemented in the form of libraries. These libraries contain functionality that we desire, but maybe don't want to code ourselves. You can find more about libraries <a href=\"https://data-flair.training/blogs/python-libraries/\">here</a>."
   ]
  },
  {
   "cell_type": "markdown",
   "metadata": {},
   "source": [
    "### Number Class example code\n",
    "\n",
    "In this example, we will create a class known as Numbers which will allow us to store a series of values in a sequence and manipulate them in various ways.\n",
    "\n",
    "Python doesn't exactly have a class specifically designed to handle arrays of numbers. So we're going to try and create one.\n",
    "\n",
    "### What is in here?\n",
    "Below, we are creating a class called Numbers that holds an arbitrary number of numbers in it. This class will have some specific functions declared to, and will have some overloaded 'magic' methods to give us some more convenient and \"python-like\" behaviors that we expect.\n",
    "\n",
    "### Steps we'll take:\n",
    "* We are going to first create the class. \n",
    "* Create the constructor that takes a series of numbers or takes it empty\n",
    "* Create a function to take in new numbers into the instance\n",
    "* Add a basic summation function\n",
    "* Add a mean calculation function\n",
    "* Try some overloaded functionality in len() and add() and getitem() and setitem()\n",
    "* Test the class that we've created!"
   ]
  },
  {
   "cell_type": "code",
   "execution_count": 7,
   "metadata": {},
   "outputs": [],
   "source": [
    "#Declare the Class name\n",
    "class Numbers:\n",
    "    \n",
    "    #Create the constructor\n",
    "    # *arguments lets us take an arbitrary number of arguments, and is marked with *\n",
    "    def __init__(self, *arguments):\n",
    "        #Declare the instance attribute, in this case it's a list\n",
    "        self.numbers = []\n",
    "        #End the constructor if there are no arguments given\n",
    "        if (not arguments):\n",
    "            return\n",
    "        #For every argument given, add the number using our own method\n",
    "        #This is written for consistency rather than efficiency\n",
    "        for argument in arguments:\n",
    "            self.addNumbers(argument)\n",
    "        \n",
    "    \n",
    "    #Create a method that we can use anywhere to add numbers to the list.\n",
    "    def addNumbers(self, *arguments):\n",
    "        #Fall out if no arguments given\n",
    "        if (not arguments):\n",
    "            return\n",
    "        #Append numbers to our list if we have numbers to add\n",
    "        for number in arguments:\n",
    "            self.numbers.append(number)\n",
    "        return self\n",
    "    \n",
    "    #Create a method that adds up all the numbers in the list\n",
    "    def total(self):\n",
    "        return sum(self.numbers)\n",
    "    \n",
    "    #Create a method that calculates the average of the numbers\n",
    "    def mean(self):\n",
    "        if not len(self.numbers):\n",
    "            raise\n",
    "        return self.total()/len(self.numbers)\n",
    "    \n",
    "    #Create a method empties the numbers from the list\n",
    "    def empty(self):\n",
    "        self.numbers = []\n",
    "        return self.numbers\n",
    "        \n",
    "    #Create a method that combines one instance of this class with another instance\n",
    "    def combine(self, *otherNumbers):\n",
    "        for otherNumber in otherNumbers:\n",
    "            self.numbers = self.numbers + otherNumber.numbers\n",
    "        return self.numbers\n",
    "    \n",
    "    # OVERLOADED FUNCTIONS\n",
    "    \n",
    "    #Define len() functionality\n",
    "    def __len__(self):\n",
    "        return len(self.numbers)\n",
    "\n",
    "    #Define + operator functionality (this is the same as combine)\n",
    "    def __add__(self, otherNumbers):\n",
    "        return self.numbers + otherNumbers.numbers\n",
    "    \n",
    "    #Define [key] notation functionality\n",
    "    def __getitem__(self, key):\n",
    "        #Fall out if key does not exist\n",
    "        if not key:\n",
    "            return self.numbers\n",
    "        return self.numbers[key]\n",
    "    \n",
    "    #Define [key] = item functionality\n",
    "    def __setitem__(self, key, item):\n",
    "        #Fall out if key does not exist\n",
    "        if not key:\n",
    "            return self.numbers\n",
    "        #try: except block here is to make sure we do not try a key out of range\n",
    "        try:\n",
    "            self.numbers[key] = item\n",
    "        except IndexError as e:\n",
    "            print(e)\n",
    "        finally:\n",
    "            return self.numbers"
   ]
  },
  {
   "cell_type": "markdown",
   "metadata": {},
   "source": [
    "### Testing the Code\n",
    "Making a class is only half the battle: classes require testing to make sure that they are working as expected. This is a prime space for logical errors, especially with Python's flexible form. The best practice is something called a Unit Test, and is its own class of work <a href=\"https://www.geeksforgeeks.org/unit-testing-python-unittest/\"> that you can read about here.</a> Unit Tests are a whole category of classes themselves!\n",
    "\n",
    "Testing cases is about finding where failures occur. It's important to remember that errors are ok! Sometimes we want an error to occur with our class because we want to enforce a specific use case. If a runtime error happens, then we know it's because we're using the object wrong. However, sometimes we want to handle error cases in specific ways. This is what makes our objects useful in the long term.\n",
    "\n",
    "For our purposes, we have specifically written tests like the ones we've been using so far."
   ]
  },
  {
   "cell_type": "code",
   "execution_count": 8,
   "metadata": {},
   "outputs": [],
   "source": [
    "# Create an instance, using ins to be shorthand for instance\n",
    "# This block checks if our constructor takes both zero attributes and arbitrary attributes \n",
    "ins1 = Numbers()\n",
    "ins2 = Numbers(1,2,3,4,5)"
   ]
  },
  {
   "cell_type": "code",
   "execution_count": 9,
   "metadata": {},
   "outputs": [
    {
     "name": "stdout",
     "output_type": "stream",
     "text": [
      "Starting values:\n",
      "instance 1: []\n",
      "instance 2: [1, 2, 3, 4, 5]\n",
      "\n",
      "Instance 1, add numbers and total method checks: \n",
      "instance 1 after adding numbers:[6, 7, 8, 9, 10]\n",
      "instance 1 total sum: 40\n",
      "\n",
      "Instance 2, mean value and combine method checks: \n",
      "instance 2 mean value: 5.5\n",
      "instance 2 combined numbers [1, 2, 3, 4, 5, 6, 7, 8, 9, 10]\n",
      "\n",
      "Instance 1, empty method check\n",
      "instance 1 empty []\n"
     ]
    }
   ],
   "source": [
    "#Now using our created instances, let's test the various methods that we have created\n",
    "print('Starting values:')\n",
    "print('instance 1: ' + str(ins1.numbers))\n",
    "print('instance 2: ' + str(ins2.numbers))\n",
    "ins1.addNumbers(6,7,8,9,10)\n",
    "ins1Sum = ins1.total()\n",
    "print()\n",
    "\n",
    "print('Instance 1, add numbers and total method checks: ')\n",
    "print('instance 1 after adding numbers:' + str(ins1.numbers))\n",
    "print('instance 1 total sum: ' + str(ins1Sum))\n",
    "print()\n",
    "\n",
    "print('Instance 2, mean value and combine method checks: ')\n",
    "ins2.mean()\n",
    "ins2.combine(ins1)\n",
    "print('instance 2 mean value: ' + str(ins2.mean()))\n",
    "print('instance 2 combined numbers ' + str(ins2.numbers))\n",
    "print()\n",
    "\n",
    "print('Instance 1, empty method check')\n",
    "ins1.empty()\n",
    "print('instance 1 empty ' + str(ins1.numbers))"
   ]
  },
  {
   "cell_type": "code",
   "execution_count": null,
   "metadata": {},
   "outputs": [],
   "source": []
  }
 ],
 "metadata": {
  "kernelspec": {
   "display_name": "Python 3",
   "language": "python",
   "name": "python3"
  },
  "language_info": {
   "codemirror_mode": {
    "name": "ipython",
    "version": 3
   },
   "file_extension": ".py",
   "mimetype": "text/x-python",
   "name": "python",
   "nbconvert_exporter": "python",
   "pygments_lexer": "ipython3",
   "version": "3.8.3"
  }
 },
 "nbformat": 4,
 "nbformat_minor": 4
}
